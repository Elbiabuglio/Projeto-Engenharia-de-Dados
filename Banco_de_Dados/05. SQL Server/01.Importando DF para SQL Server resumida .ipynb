{
 "cells": [
  {
   "cell_type": "code",
   "execution_count": 1,
   "metadata": {},
   "outputs": [],
   "source": [
    "\n",
    "import pandas as pd\n",
    "import pyodbc \n",
    "\n",
    "server = 'localhost' # Substitua pelo nome do servidor SQL Server\n",
    "database = 'Python'  # Substitua pelo nome do banco de dados\n",
    "conexaoDB = pyodbc.connect('DRIVER={ODBC Driver 17 for SQL Server};'\n",
    "                      f'SERVER={server};'\n",
    "                      f'DATABASE={database};'\n",
    "                      'Trusted_Connection=yes;')\n",
    "\n",
    "cursor = conexaoDB.cursor()   # criando cursor de comando "
   ]
  },
  {
   "cell_type": "code",
   "execution_count": 2,
   "metadata": {},
   "outputs": [],
   "source": [
    "dados = pd.read_excel(r\"c:\\Users\\Note reserva\\Desktop\\Python\\arquivos_excel\\Produto.xlsx\")\n"
   ]
  },
  {
   "cell_type": "code",
   "execution_count": 3,
   "metadata": {},
   "outputs": [],
   "source": [
    "cursor.execute('truncate table [Produtos]')   #executa tarefa de  apagar dados\n",
    "cursor.commit()"
   ]
  },
  {
   "cell_type": "code",
   "execution_count": 4,
   "metadata": {},
   "outputs": [],
   "source": [
    "for index, linha in dados.iterrows():\n",
    "    \n",
    "    cursor.execute(\"Insert into [Produtos](ID,Nome,Price,Id_Category)values(?,?,?,?)\",linha.ID,linha.Nome,linha.Price,linha.Id_Category) \n",
    "     # inserir colunas e quantas colunas tiver passar quantidade de ??\n",
    "cursor.commit()   # validar dados no SQL Server\n",
    "cursor.close()    #Fechar Cursor\n",
    "conexaoDB.close() #Fechar Conexao"
   ]
  },
  {
   "cell_type": "markdown",
   "metadata": {},
   "source": []
  }
 ],
 "metadata": {
  "kernelspec": {
   "display_name": "sgbds",
   "language": "python",
   "name": "python3"
  },
  "language_info": {
   "codemirror_mode": {
    "name": "ipython",
    "version": 3
   },
   "file_extension": ".py",
   "mimetype": "text/x-python",
   "name": "python",
   "nbconvert_exporter": "python",
   "pygments_lexer": "ipython3",
   "version": "3.13.1"
  }
 },
 "nbformat": 4,
 "nbformat_minor": 4
}
