{
 "cells": [
  {
   "cell_type": "code",
   "execution_count": null,
   "metadata": {},
   "outputs": [],
   "source": [
    "import pandas as pd\n",
    "import os\n",
    "\n",
    "# Diretório dos arquivos Excel\n",
    "diretorio = (r\"c:\\Users\\Note reserva\\Desktop\\Python\\Consolidar\")\n",
    "\n",
    "# Lista para armazenar os dados dos arquivos\n",
    "dados = []\n",
    "\n",
    "# Iterar sobre os arquivos Excel no diretório\n",
    "for arquivo in os.listdir(diretorio):\n",
    "    if arquivo.endswith('.xlsx'):\n",
    "        caminho_arquivo = os.path.join(diretorio, arquivo)\n",
    "        df = pd.read_excel(caminho_arquivo)\n",
    "        dados.append(df)\n",
    "\n",
    "# Consolidar os dados em um único DataFrame\n",
    "consolidado = pd.concat(dados)\n",
    "consolidado\n"
   ]
  }
 ],
 "metadata": {
  "kernelspec": {
   "display_name": "sgbds",
   "language": "python",
   "name": "python3"
  },
  "language_info": {
   "codemirror_mode": {
    "name": "ipython",
    "version": 3
   },
   "file_extension": ".py",
   "mimetype": "text/x-python",
   "name": "python",
   "nbconvert_exporter": "python",
   "pygments_lexer": "ipython3",
   "version": "3.13.1"
  },
  "orig_nbformat": 4
 },
 "nbformat": 4,
 "nbformat_minor": 2
}
